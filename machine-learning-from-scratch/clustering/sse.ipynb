{
 "cells": [
  {
   "cell_type": "markdown",
   "metadata": {},
   "source": [
    "# Cluster cohesion / sum of squared errors (SSE)"
   ]
  },
  {
   "cell_type": "code",
   "execution_count": 2,
   "metadata": {},
   "outputs": [
    {
     "name": "stdout",
     "output_type": "stream",
     "text": [
      "SSE = SUM(SUM(dist(X,m)**2\n",
      "m[0] = [1.75 3.  ]\n",
      "+ dist([A[0],m[0]] = norm([[0, 1], [1.75, 3.0]])  = 4.0**2) = 16.0)\n",
      "+ dist([A[1],m[0]] = norm([[3, 5], [1.75, 3.0]])  = 8.0**2) = 64.0)\n",
      "+ dist([A[2],m[0]] = norm([[2, 6], [1.75, 3.0]])  = 9.0**2) = 81.0)\n",
      "+ dist([A[3],m[0]] = norm([[2, 0], [1.75, 3.0]])  = 3.75**2) = 14.0625)\n",
      "m[1] = [11.75 15.5 ]\n",
      "+ dist([A[0],m[1]] = norm([[10, 21], [11.75, 15.5]])  = 36.5**2) = 1332.25)\n",
      "+ dist([A[1],m[1]] = norm([[13, 15], [11.75, 15.5]])  = 30.5**2) = 930.25)\n",
      "+ dist([A[2],m[1]] = norm([[12, 16], [11.75, 15.5]])  = 31.5**2) = 992.25)\n",
      "+ dist([A[3],m[1]] = norm([[12, 10], [11.75, 15.5]])  = 25.5**2) = 650.25)\n",
      "SSE = 4080.0625\n"
     ]
    }
   ],
   "source": [
    "import numpy as np\n",
    "\n",
    "#Cluster cohesion / sum of squared errors (SSE)\n",
    "\n",
    "X1 = np.array([[0,1],[3,5],[2,6],[2,0]])\n",
    "X2 = np.array([[10,21],[13,15],[12,16],[12,10]])\n",
    "#X1 = df = pd.DataFrame(data=X1,columns=[\"X\", \"Y\"])\n",
    "#X2 = df = pd.DataFrame(data=X2,columns=[\"X\", \"Y\"])\n",
    "\n",
    "Xs = [X1, X2]\n",
    "\n",
    "def SSE(clusters):\n",
    "    m = [None for c in clusters]\n",
    "    sse = 0\n",
    "    print(f\"SSE = SUM(SUM(dist(X,m)**2\")\n",
    "    for i,c in enumerate(clusters):\n",
    "        #Calc mean over points:\n",
    "        m[i] = np.mean(c, axis=0)\n",
    "        print(f\"m[{i}] = {m[i]}\")\n",
    "        for row in range(c.shape[0]):\n",
    "            dists_point_quad = (np.linalg.norm([c[row],m[i]], ord=1))**2\n",
    "            print(f\"+ dist([A{[row]},m[{i}]] = norm({[c[row].tolist(),m[i].tolist()]})  = {(np.linalg.norm([c[row],m[i]], ord=1))}**2) = {dists_point_quad})\")\n",
    "            sse += dists_point_quad\n",
    "    print(f\"SSE = {sse}\")\n",
    "    \n",
    "SSE(Xs)"
   ]
  }
 ],
 "metadata": {
  "interpreter": {
   "hash": "7eeab5e244e6d2bb29126e5c2117da8f926f0a00ff0a13f94b66cc877e30ded6"
  },
  "kernelspec": {
   "display_name": "Python 3.9.5 ('base')",
   "language": "python",
   "name": "python3"
  },
  "language_info": {
   "codemirror_mode": {
    "name": "ipython",
    "version": 3
   },
   "file_extension": ".py",
   "mimetype": "text/x-python",
   "name": "python",
   "nbconvert_exporter": "python",
   "pygments_lexer": "ipython3",
   "version": "3.9.5"
  },
  "orig_nbformat": 4
 },
 "nbformat": 4,
 "nbformat_minor": 2
}
