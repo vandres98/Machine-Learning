{
 "cells": [
  {
   "cell_type": "markdown",
   "metadata": {},
   "source": [
    "# kMeans"
   ]
  },
  {
   "cell_type": "code",
   "execution_count": 2,
   "metadata": {},
   "outputs": [
    {
     "name": "stdout",
     "output_type": "stream",
     "text": [
      "[[3 4 4]\n",
      " [5 2 3]\n",
      " [6 8 9]\n",
      " [1 4 4]\n",
      " [7 7 5]\n",
      " [8 8 9]\n",
      " [3 3 7]\n",
      " [4 9 4]]\n"
     ]
    },
    {
     "data": {
      "image/png": "[encoded data removed]",
      "text/plain": [
       "<Figure size 432x288 with 1 Axes>"
      ]
     },
     "metadata": {
      "needs_background": "light"
     },
     "output_type": "display_data"
    }
   ],
   "source": [
    "import numpy as np\n",
    "import pandas as pd\n",
    "import matplotlib.pyplot as plt\n",
    "%matplotlib inline\n",
    "\n",
    "#Data\n",
    "df = pd.read_table('../data/table12.txt', delim_whitespace=True, index_col=0)\n",
    "df = df[[\"x\", \"y\", \"z\"]].to_numpy()\n",
    "print(df)\n",
    "X=df\n",
    "\n",
    "# Number of training data\n",
    "n = X.shape[0]\n",
    "# Number of features in the data\n",
    "c = X.shape[1]\n",
    "\n",
    "# Plot\n",
    "for i in range(n):\n",
    "    plt.scatter(X[i, 0], X[i,1], s=7)"
   ]
  },
  {
   "cell_type": "markdown",
   "metadata": {},
   "source": [
    "## Loyds version:"
   ]
  },
  {
   "cell_type": "code",
   "execution_count": 3,
   "metadata": {},
   "outputs": [
    {
     "name": "stdout",
     "output_type": "stream",
     "text": [
      "Starting C1 = [3.0, 4.0, 4.0]\n",
      "Starting C2 = [8.0, 8.0, 9.0]\n",
      "================================================\n",
      "Step: 1\n",
      "d(X,C1) = [0.         3.         7.07106781 2.         5.09901951 8.1240384\n",
      " 3.16227766 5.09901951]\n",
      "d(X,C2) = [8.1240384  9.         2.         9.48683298 4.24264069 0.\n",
      " 7.34846923 6.4807407 ]\n",
      "Assign points to clostest Cluster: [1 1 2 1 2 2 1 1]\n",
      "Calculate mean over all points in every cluster to update centers:\n",
      "C1 = means([[3, 4, 4], [5, 2, 3], [1, 4, 4], [3, 3, 7], [4, 9, 4]]) = [3.2 4.4 4.4]\n",
      "C2 = means([[6, 8, 9], [7, 7, 5], [8, 8, 9]]) = [7.         7.66666667 7.66666667]\n",
      "================================================\n",
      "Step: 2\n",
      "d(X,C1) = [0.6        3.31058907 6.4776539  2.27156334 4.64327471 7.56042327\n",
      " 2.95972972 4.68614981]\n",
      "d(X,C2) = [6.5489609  7.60847481 1.69967317 7.9302515  2.74873708 1.69967317\n",
      " 6.18241233 4.92160769]\n",
      "Assign points to clostest Cluster: [1 1 2 1 2 2 1 1]\n",
      "Calculate mean over all points in every cluster to update centers:\n",
      "C1 = means([[3, 4, 4], [5, 2, 3], [1, 4, 4], [3, 3, 7], [4, 9, 4]]) = [3.2 4.4 4.4]\n",
      "C2 = means([[6, 8, 9], [7, 7, 5], [8, 8, 9]]) = [7.         7.66666667 7.66666667]\n",
      "Final cluster assignments: [1 1 2 1 2 2 1 1]\n",
      "Final centers: [[3.2        4.4        4.4       ]\n",
      " [7.         7.66666667 7.66666667]]\n"
     ]
    }
   ],
   "source": [
    "from copy import deepcopy\n",
    "\n",
    "# Number of clusters\n",
    "K = 2\n",
    "# Number of training data\n",
    "n = X.shape[0]\n",
    "# Number of features in the data\n",
    "c = X.shape[1]\n",
    "\n",
    "# Generate random centers, here we use sigma and mean to ensure it represent the whole data\n",
    "mean = np.mean(X, axis = 0)\n",
    "std = np.std(X, axis = 0)\n",
    "centers = np.random.randn(K,c)*std + mean\n",
    "# given start clusters\n",
    "centers = np.array([[3, 4, 4],\n",
    "                   [8, 8, 9]]).astype(float)\n",
    "\n",
    "centers_old = np.zeros(centers.shape) # to store old centers\n",
    "centers_new = deepcopy(centers) # Store new centers\n",
    "\n",
    "clusters = np.zeros(n)\n",
    "distances = np.zeros((n,K))\n",
    "\n",
    "for i,c in enumerate(centers):\n",
    "    print(f\"Starting C{i+1} = {c.tolist()}\")\n",
    "\n",
    "error = np.linalg.norm(centers_new - centers_old, ord=2)\n",
    "counter = 1\n",
    "# When, after an update, the estimate of that center stays the same, exit loop\n",
    "while error != 0:\n",
    "    print(\"================================================\")\n",
    "    print(f\"Step: {counter}\")\n",
    "    counter += 1\n",
    "    # Measure the distance to all k center\n",
    "    for i in range(K):\n",
    "        distances[:,i] = np.linalg.norm(X - centers_new[i], axis=1, ord=2)\n",
    "        print(f\"d(X,C{i+1}) = {distances[:,i]}\")\n",
    "    # Assign all training data to closest center\n",
    "    clusters = np.argmin(distances, axis = 1)\n",
    "    print(f\"Assign points to clostest Cluster: {clusters+1}\")\n",
    "    centers_old = deepcopy(centers_new)\n",
    "    # Calculate mean for every cluster and update the center\n",
    "    print(f\"Calculate mean over all points in every cluster to update centers:\")\n",
    "    for i in range(K):\n",
    "        centers_new[i] = np.mean(X[clusters == i], axis=0)\n",
    "        print(f\"C{i+1} = means({(X[clusters == i]).tolist()}) = {centers_new[i]}\")\n",
    "    error = np.linalg.norm(centers_new - centers_old, ord=2)\n",
    "centers_new   \n",
    "\n",
    "print(f\"Final cluster assignments: {clusters+1}\")\n",
    "print(f\"Final centers: {centers_new}\")\n"
   ]
  },
  {
   "cell_type": "markdown",
   "metadata": {},
   "source": [
    "## MCQueen"
   ]
  },
  {
   "cell_type": "code",
   "execution_count": 4,
   "metadata": {},
   "outputs": [
    {
     "name": "stdout",
     "output_type": "stream",
     "text": [
      "Starting C1 = [1, 3]\n",
      "Starting C2 = [3, 6]\n",
      "Starting C3 = [9, 2]\n",
      "================================================\n",
      "Step: 1\n",
      "\n",
      "A0:\n"
     ]
    },
    {
     "ename": "ValueError",
     "evalue": "operands could not be broadcast together with shapes (3,) (2,) ",
     "output_type": "error",
     "traceback": [
      "\u001b[0;31m---------------------------------------------------------------------------\u001b[0m",
      "\u001b[0;31mValueError\u001b[0m                                Traceback (most recent call last)",
      "\u001b[0;32m/tmp/ipykernel_199949/2322588895.py\u001b[0m in \u001b[0;36m<module>\u001b[0;34m\u001b[0m\n\u001b[1;32m     37\u001b[0m         \u001b[0mprint\u001b[0m\u001b[0;34m(\u001b[0m\u001b[0;34mf\"\\nA{i}:\"\u001b[0m\u001b[0;34m)\u001b[0m\u001b[0;34m\u001b[0m\u001b[0;34m\u001b[0m\u001b[0m\n\u001b[1;32m     38\u001b[0m         \u001b[0;32mfor\u001b[0m \u001b[0mc\u001b[0m \u001b[0;32min\u001b[0m \u001b[0mrange\u001b[0m\u001b[0;34m(\u001b[0m\u001b[0mK\u001b[0m\u001b[0;34m)\u001b[0m\u001b[0;34m:\u001b[0m\u001b[0;34m\u001b[0m\u001b[0;34m\u001b[0m\u001b[0m\n\u001b[0;32m---> 39\u001b[0;31m             \u001b[0mdistances\u001b[0m\u001b[0;34m[\u001b[0m\u001b[0mi\u001b[0m\u001b[0;34m,\u001b[0m\u001b[0mc\u001b[0m\u001b[0;34m]\u001b[0m \u001b[0;34m=\u001b[0m \u001b[0mnp\u001b[0m\u001b[0;34m.\u001b[0m\u001b[0mlinalg\u001b[0m\u001b[0;34m.\u001b[0m\u001b[0mnorm\u001b[0m\u001b[0;34m(\u001b[0m\u001b[0mX\u001b[0m\u001b[0;34m[\u001b[0m\u001b[0mi\u001b[0m\u001b[0;34m]\u001b[0m \u001b[0;34m-\u001b[0m \u001b[0mcenters_new\u001b[0m\u001b[0;34m[\u001b[0m\u001b[0mc\u001b[0m\u001b[0;34m]\u001b[0m\u001b[0;34m,\u001b[0m \u001b[0maxis\u001b[0m\u001b[0;34m=\u001b[0m\u001b[0;36m0\u001b[0m\u001b[0;34m,\u001b[0m \u001b[0mord\u001b[0m\u001b[0;34m=\u001b[0m\u001b[0;36m1\u001b[0m\u001b[0;34m)\u001b[0m\u001b[0;34m\u001b[0m\u001b[0;34m\u001b[0m\u001b[0m\n\u001b[0m\u001b[1;32m     40\u001b[0m             \u001b[0mprint\u001b[0m\u001b[0;34m(\u001b[0m\u001b[0;34mf\"d(A{i},C{c+1}) = {distances[i,c]}\"\u001b[0m\u001b[0;34m)\u001b[0m\u001b[0;34m\u001b[0m\u001b[0;34m\u001b[0m\u001b[0m\n\u001b[1;32m     41\u001b[0m         \u001b[0;31m# Assign point to closest center\u001b[0m\u001b[0;34m\u001b[0m\u001b[0;34m\u001b[0m\u001b[0;34m\u001b[0m\u001b[0m\n",
      "\u001b[0;31mValueError\u001b[0m: operands could not be broadcast together with shapes (3,) (2,) "
     ]
    }
   ],
   "source": [
    "from copy import deepcopy\n",
    "\n",
    "# Number of clusters\n",
    "K = 3\n",
    "# Number of training data\n",
    "n = X.shape[0]\n",
    "# Number of features in the data\n",
    "c = X.shape[1]\n",
    "\n",
    "# Generate random centers, here we use sigma and mean to ensure it represent the whole data\n",
    "mean = np.mean(X, axis = 0)\n",
    "std = np.std(X, axis = 0)\n",
    "centers = np.random.randn(K,c)*std + mean\n",
    "# given start clusters\n",
    "centers = np.array([[1,3],\n",
    "                    [3,6],\n",
    "                    [9,2]])\n",
    "\n",
    "centers_old = np.zeros(centers.shape) # to store old centers\n",
    "centers_new = deepcopy(centers).astype(float) # Store new centers\n",
    "\n",
    "clusters = np.zeros(n).astype(int)\n",
    "distances = np.zeros((n,K))\n",
    "\n",
    "for i,c in enumerate(centers):\n",
    "    print(f\"Starting C{i+1} = {c.tolist()}\")\n",
    "\n",
    "error = np.linalg.norm(centers_new - centers_old)\n",
    "counter = 1\n",
    "while error != 0:\n",
    "    print(\"================================================\")\n",
    "    print(f\"Step: {counter}\")\n",
    "    counter += 1\n",
    "    # Measure the distances for every point\n",
    "    centers_old = deepcopy(centers_new)\n",
    "    for i in range(n):\n",
    "        print(f\"\\nA{i}:\")\n",
    "        for c in range(K):\n",
    "            distances[i,c] = np.linalg.norm(X[i] - centers_new[c], axis=0, ord=1)\n",
    "            print(f\"d(A{i},C{c+1}) = {distances[i,c]}\")\n",
    "        # Assign point to closest center\n",
    "        clusters[i] = (np.argmin(distances[i,:], axis = 0)).item()\n",
    "        # Calculate mean for that cluster\n",
    "        print(f\"cluster for A{i+1}: {clusters[i]+1}\")\n",
    "        print(f\"C{clusters[i]+1} = means({X[i].tolist()}, {centers_new[clusters[i]].tolist()}) = \")\n",
    "        centers_new[clusters[i]] = np.mean([X[i], centers_new[clusters[i]]], axis=0)\n",
    "        print(centers_new[clusters[i]])\n",
    "    error = np.linalg.norm(centers_new - centers_old, ord=1)\n",
    "\n",
    "print(f\"Final cluster assignments: {clusters+1}\")\n",
    "print(f\"Final centers: {centers_new}\")\n",
    "\n",
    "# Plot the data\n",
    "colors=['orange', 'blue', 'green']\n",
    "for i in range(n):\n",
    "    plt.scatter(X[i, 0], X[i,1], s=7, color = colors[int(y[i])])\n",
    "plt.scatter(centers_new[:,0], centers_new[:,1], marker='*', c='g', s=150) "
   ]
  }
 ],
 "metadata": {
  "interpreter": {
   "hash": "7eeab5e244e6d2bb29126e5c2117da8f926f0a00ff0a13f94b66cc877e30ded6"
  },
  "kernelspec": {
   "display_name": "Python 3.9.5 ('base')",
   "language": "python",
   "name": "python3"
  },
  "language_info": {
   "codemirror_mode": {
    "name": "ipython",
    "version": 3
   },
   "file_extension": ".py",
   "mimetype": "text/x-python",
   "name": "python",
   "nbconvert_exporter": "python",
   "pygments_lexer": "ipython3",
   "version": "3.9.5"
  },
  "orig_nbformat": 4
 },
 "nbformat": 4,
 "nbformat_minor": 2
}
