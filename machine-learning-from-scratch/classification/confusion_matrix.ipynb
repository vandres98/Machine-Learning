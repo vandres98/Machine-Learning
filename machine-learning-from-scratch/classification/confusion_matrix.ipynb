{
 "cells": [
  {
   "cell_type": "markdown",
   "metadata": {},
   "source": [
    "# Confusion Matrix"
   ]
  },
  {
   "cell_type": "code",
   "execution_count": 1,
   "metadata": {},
   "outputs": [],
   "source": [
    "import seaborn as sns\n",
    "import matplotlib.pyplot as plt\n",
    "import pandas as pd\n",
    "import io\n",
    "import requests\n",
    "import numpy as np\n",
    "def plot_conf_matrix(cf_matrix):\n",
    "    ax = sns.heatmap(cf_matrix, annot=True, cmap='Blues')\n",
    "\n",
    "    ax.set_xlabel('\\nPredicted Values')\n",
    "    ax.set_ylabel('Actual Values ');\n",
    "\n",
    "    ## Ticket labels - List must be in alphabetical order\n",
    "    ax.xaxis.set_ticklabels(['P','N'])\n",
    "    ax.yaxis.set_ticklabels(['P','N'])\n",
    "\n",
    "    ## Display the visualization of the Confusion Matrix.\n",
    "    plt.show()\n",
    "    "
   ]
  },
  {
   "cell_type": "code",
   "execution_count": 3,
   "metadata": {},
   "outputs": [
    {
     "data": {
      "text/html": [
       "<div>\n",
       "<style scoped>\n",
       "    .dataframe tbody tr th:only-of-type {\n",
       "        vertical-align: middle;\n",
       "    }\n",
       "\n",
       "    .dataframe tbody tr th {\n",
       "        vertical-align: top;\n",
       "    }\n",
       "\n",
       "    .dataframe thead th {\n",
       "        text-align: right;\n",
       "    }\n",
       "</style>\n",
       "<table border=\"1\" class=\"dataframe\">\n",
       "  <thead>\n",
       "    <tr style=\"text-align: right;\">\n",
       "      <th></th>\n",
       "      <th>PlayTennis</th>\n",
       "      <th>Predictedlabel(DT1)</th>\n",
       "      <th>Predictedlabel(DT2)</th>\n",
       "    </tr>\n",
       "    <tr>\n",
       "      <th>Day</th>\n",
       "      <th></th>\n",
       "      <th></th>\n",
       "      <th></th>\n",
       "    </tr>\n",
       "  </thead>\n",
       "  <tbody>\n",
       "    <tr>\n",
       "      <th>D11</th>\n",
       "      <td>yes</td>\n",
       "      <td>yes</td>\n",
       "      <td>no</td>\n",
       "    </tr>\n",
       "    <tr>\n",
       "      <th>D12</th>\n",
       "      <td>yes</td>\n",
       "      <td>yes</td>\n",
       "      <td>yes</td>\n",
       "    </tr>\n",
       "    <tr>\n",
       "      <th>D13</th>\n",
       "      <td>no</td>\n",
       "      <td>yes</td>\n",
       "      <td>no</td>\n",
       "    </tr>\n",
       "    <tr>\n",
       "      <th>D14</th>\n",
       "      <td>no</td>\n",
       "      <td>yes</td>\n",
       "      <td>yes</td>\n",
       "    </tr>\n",
       "    <tr>\n",
       "      <th>D15</th>\n",
       "      <td>no</td>\n",
       "      <td>no</td>\n",
       "      <td>no</td>\n",
       "    </tr>\n",
       "    <tr>\n",
       "      <th>D16</th>\n",
       "      <td>yes</td>\n",
       "      <td>yes</td>\n",
       "      <td>yes</td>\n",
       "    </tr>\n",
       "    <tr>\n",
       "      <th>D17</th>\n",
       "      <td>yes</td>\n",
       "      <td>yes</td>\n",
       "      <td>no</td>\n",
       "    </tr>\n",
       "    <tr>\n",
       "      <th>D18</th>\n",
       "      <td>yes</td>\n",
       "      <td>no</td>\n",
       "      <td>yes</td>\n",
       "    </tr>\n",
       "    <tr>\n",
       "      <th>D19</th>\n",
       "      <td>no</td>\n",
       "      <td>yes</td>\n",
       "      <td>no</td>\n",
       "    </tr>\n",
       "    <tr>\n",
       "      <th>D20</th>\n",
       "      <td>no</td>\n",
       "      <td>no</td>\n",
       "      <td>yes</td>\n",
       "    </tr>\n",
       "  </tbody>\n",
       "</table>\n",
       "</div>"
      ],
      "text/plain": [
       "    PlayTennis Predictedlabel(DT1) Predictedlabel(DT2)\n",
       "Day                                                   \n",
       "D11        yes                 yes                  no\n",
       "D12        yes                 yes                 yes\n",
       "D13         no                 yes                  no\n",
       "D14         no                 yes                 yes\n",
       "D15         no                  no                  no\n",
       "D16        yes                 yes                 yes\n",
       "D17        yes                 yes                  no\n",
       "D18        yes                  no                 yes\n",
       "D19         no                 yes                  no\n",
       "D20         no                  no                 yes"
      ]
     },
     "execution_count": 3,
     "metadata": {},
     "output_type": "execute_result"
    }
   ],
   "source": [
    "df = pd.read_table('../data/table2.txt', delim_whitespace=True, index_col=0)\n",
    "df"
   ]
  },
  {
   "cell_type": "code",
   "execution_count": 4,
   "metadata": {},
   "outputs": [
    {
     "name": "stdout",
     "output_type": "stream",
     "text": [
      "\n",
      "DT1:\n"
     ]
    },
    {
     "data": {
      "image/png": "[encoded data removed]",
      "text/plain": [
       "<Figure size 432x288 with 2 Axes>"
      ]
     },
     "metadata": {
      "needs_background": "light"
     },
     "output_type": "display_data"
    },
    {
     "name": "stdout",
     "output_type": "stream",
     "text": [
      "accuracy = TP+TN/P+N = 4+2 / 10 = 0.6 \n",
      "error rate = FP+FN/P+N = 3+1 / 10 = 0.4 \n",
      "sensitivity_recall = (tp)/(tp+fn) = (4)/(4+1) = 0.8 \n",
      "specificity = (tn)/(tn+fp) = (2)/(2+3) = 0.4 \n",
      "precision = (tp)/(tp+fp) = (4)/(4+3) = 0.5714285714285714 \n",
      "f1 = (2*precision*sensitivity)/(precision+sensitivity) = (2*0.5714285714285714*0.8)/(0.5714285714285714+0.8) = 0.6666666666666666 \n",
      "fß = ((1+(ß**2))*precision*sensitivity)/((ß**2)*precision+sensitivity) = ((1+(0.5**2))*0.5714285714285714*0.8)/(0.5**2)*0.5714285714285714+0.8) = 0.6060606060606061 \n",
      "\n",
      "DT2:\n"
     ]
    },
    {
     "data": {
      "image/png": "[encoded data removed]",
      "text/plain": [
       "<Figure size 432x288 with 2 Axes>"
      ]
     },
     "metadata": {
      "needs_background": "light"
     },
     "output_type": "display_data"
    },
    {
     "name": "stdout",
     "output_type": "stream",
     "text": [
      "accuracy = TP+TN/P+N = 3+3 / 10 = 0.6 \n",
      "error rate = FP+FN/P+N = 2+2 / 10 = 0.4 \n",
      "sensitivity_recall = (tp)/(tp+fn) = (3)/(3+2) = 0.6 \n",
      "specificity = (tn)/(tn+fp) = (3)/(3+2) = 0.6 \n",
      "precision = (tp)/(tp+fp) = (3)/(3+2) = 0.6 \n",
      "f1 = (2*precision*sensitivity)/(precision+sensitivity) = (2*0.6*0.6)/(0.6+0.6) = 0.6 \n",
      "fß = ((1+(ß**2))*precision*sensitivity)/((ß**2)*precision+sensitivity) = ((1+(0.5**2))*0.6*0.6)/(0.5**2)*0.6+0.6) = 0.6 \n"
     ]
    }
   ],
   "source": [
    "from sklearn.metrics import confusion_matrix\n",
    "true = list(df[\"PlayTennis\"])\n",
    "\n",
    "print(\"\\nDT1:\")\n",
    "pred1 = list(df[\"Predictedlabel(DT1)\"])\n",
    "cf_matrix = confusion_matrix(true, pred1, labels=[\"yes\", \"no\"])\n",
    "# outcome values order in sklearn\n",
    "tp, fn, fp, tn = confusion_matrix(true,pred1,labels=[\"yes\", \"no\"]).reshape(-1)\n",
    "total = tp+fn+fp+tn\n",
    "total_pred_p = tp + fp\n",
    "p = tp + fn\n",
    "total_pred_n = tn + fn\n",
    "n = tn + fp\n",
    "plot_conf_matrix(cf_matrix)\n",
    "accuracy = (tp + tn)/total\n",
    "print(f\"accuracy = TP+TN/P+N = {tp}+{tn} / {total} = {accuracy} \")\n",
    "error_rate = (fp+fn)/total\n",
    "print(f\"error rate = FP+FN/P+N = {fp}+{fn} / {total} = {error_rate} \")\n",
    "sensitivity = (tp)/(tp+fn)\n",
    "print(f\"sensitivity_recall = (tp)/(tp+fn) = ({tp})/({tp}+{fn}) = {sensitivity} \")\n",
    "specificity = (tn)/(tn+fp)\n",
    "print(f\"specificity = (tn)/(tn+fp) = ({tn})/({tn}+{fp}) = {specificity} \")\n",
    "precision = (tp)/(tp+fp)\n",
    "print(f\"precision = (tp)/(tp+fp) = ({tp})/({tp}+{fp}) = {precision} \")\n",
    "f1 = (2*precision*sensitivity)/(precision+sensitivity)\n",
    "print(f\"f1 = (2*precision*sensitivity)/(precision+sensitivity) = (2*{precision}*{sensitivity})/({precision}+{sensitivity}) = {f1} \")\n",
    "ß=0.5\n",
    "fß = ((1+(ß**2))*precision*sensitivity)/((ß**2)*precision+sensitivity)\n",
    "print(f\"fß = ((1+(ß**2))*precision*sensitivity)/((ß**2)*precision+sensitivity) = ((1+({ß}**2))*{precision}*{sensitivity})/({ß}**2)*{precision}+{sensitivity}) = {fß} \")\n",
    "\n",
    "print(\"\\nDT2:\")\n",
    "pred2 = list(df[\"Predictedlabel(DT2)\"])\n",
    "cf_matrix = confusion_matrix(true, pred2, labels=[\"yes\", \"no\"])\n",
    "tp, fn, fp, tn = confusion_matrix(true,pred2,labels=[\"yes\", \"no\"]).reshape(-1)\n",
    "total = tp+fn+fp+tn\n",
    "total_pred_p = tp + fp\n",
    "p = tp + fn\n",
    "total_pred_n = tn + fn\n",
    "n = tn + fp\n",
    "plot_conf_matrix(cf_matrix)\n",
    "accuracy = (tp + tn)/total\n",
    "print(f\"accuracy = TP+TN/P+N = {tp}+{tn} / {total} = {accuracy} \")\n",
    "error_rate = (fp+fn)/total\n",
    "print(f\"error rate = FP+FN/P+N = {fp}+{fn} / {total} = {error_rate} \")\n",
    "sensitivity = (tp)/(tp+fn)\n",
    "print(f\"sensitivity_recall = (tp)/(tp+fn) = ({tp})/({tp}+{fn}) = {sensitivity} \")\n",
    "specificity = (tn)/(tn+fp)\n",
    "print(f\"specificity = (tn)/(tn+fp) = ({tn})/({tn}+{fp}) = {specificity} \")\n",
    "precision = (tp)/(tp+fp)\n",
    "print(f\"precision = (tp)/(tp+fp) = ({tp})/({tp}+{fp}) = {precision} \")\n",
    "f1 = (2*precision*sensitivity)/(precision+sensitivity)\n",
    "print(f\"f1 = (2*precision*sensitivity)/(precision+sensitivity) = (2*{precision}*{sensitivity})/({precision}+{sensitivity}) = {f1} \")\n",
    "ß=0.5\n",
    "fß = ((1+(ß**2))*precision*sensitivity)/((ß**2)*precision+sensitivity)\n",
    "print(f\"fß = ((1+(ß**2))*precision*sensitivity)/((ß**2)*precision+sensitivity) = ((1+({ß}**2))*{precision}*{sensitivity})/({ß}**2)*{precision}+{sensitivity}) = {fß} \")"
   ]
  }
 ],
 "metadata": {
  "interpreter": {
   "hash": "7eeab5e244e6d2bb29126e5c2117da8f926f0a00ff0a13f94b66cc877e30ded6"
  },
  "kernelspec": {
   "display_name": "Python 3.9.5 ('base')",
   "language": "python",
   "name": "python3"
  },
  "language_info": {
   "codemirror_mode": {
    "name": "ipython",
    "version": 3
   },
   "file_extension": ".py",
   "mimetype": "text/x-python",
   "name": "python",
   "nbconvert_exporter": "python",
   "pygments_lexer": "ipython3",
   "version": "3.9.5"
  },
  "orig_nbformat": 4
 },
 "nbformat": 4,
 "nbformat_minor": 2
}
