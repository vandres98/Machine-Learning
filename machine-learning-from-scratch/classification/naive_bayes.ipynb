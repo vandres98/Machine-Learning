{
 "cells": [
  {
   "cell_type": "markdown",
   "metadata": {},
   "source": [
    "# Naive Bayes"
   ]
  },
  {
   "cell_type": "code",
   "execution_count": 1,
   "metadata": {},
   "outputs": [],
   "source": [
    "import pandas as pd\n",
    "import io\n",
    "import requests\n",
    "import numpy as np\n"
   ]
  },
  {
   "cell_type": "code",
   "execution_count": 3,
   "metadata": {},
   "outputs": [
    {
     "data": {
      "text/html": [
       "<div>\n",
       "<style scoped>\n",
       "    .dataframe tbody tr th:only-of-type {\n",
       "        vertical-align: middle;\n",
       "    }\n",
       "\n",
       "    .dataframe tbody tr th {\n",
       "        vertical-align: top;\n",
       "    }\n",
       "\n",
       "    .dataframe thead th {\n",
       "        text-align: right;\n",
       "    }\n",
       "</style>\n",
       "<table border=\"1\" class=\"dataframe\">\n",
       "  <thead>\n",
       "    <tr style=\"text-align: right;\">\n",
       "      <th></th>\n",
       "      <th>age</th>\n",
       "      <th>income</th>\n",
       "      <th>student</th>\n",
       "      <th>credit_rating</th>\n",
       "      <th>buys_computer</th>\n",
       "    </tr>\n",
       "  </thead>\n",
       "  <tbody>\n",
       "    <tr>\n",
       "      <th>0</th>\n",
       "      <td>&lt;=30</td>\n",
       "      <td>high</td>\n",
       "      <td>no</td>\n",
       "      <td>fair</td>\n",
       "      <td>no</td>\n",
       "    </tr>\n",
       "    <tr>\n",
       "      <th>1</th>\n",
       "      <td>&lt;=30</td>\n",
       "      <td>high</td>\n",
       "      <td>no</td>\n",
       "      <td>excellent</td>\n",
       "      <td>no</td>\n",
       "    </tr>\n",
       "    <tr>\n",
       "      <th>2</th>\n",
       "      <td>&gt;40</td>\n",
       "      <td>medium</td>\n",
       "      <td>no</td>\n",
       "      <td>fair</td>\n",
       "      <td>yes</td>\n",
       "    </tr>\n",
       "    <tr>\n",
       "      <th>3</th>\n",
       "      <td>&gt;40</td>\n",
       "      <td>low</td>\n",
       "      <td>yes</td>\n",
       "      <td>fair</td>\n",
       "      <td>yes</td>\n",
       "    </tr>\n",
       "    <tr>\n",
       "      <th>4</th>\n",
       "      <td>&gt;40</td>\n",
       "      <td>low</td>\n",
       "      <td>yes</td>\n",
       "      <td>excellent</td>\n",
       "      <td>no</td>\n",
       "    </tr>\n",
       "    <tr>\n",
       "      <th>5</th>\n",
       "      <td>31..40</td>\n",
       "      <td>low</td>\n",
       "      <td>yes</td>\n",
       "      <td>excellent</td>\n",
       "      <td>yes</td>\n",
       "    </tr>\n",
       "    <tr>\n",
       "      <th>6</th>\n",
       "      <td>&lt;=30</td>\n",
       "      <td>medium</td>\n",
       "      <td>no</td>\n",
       "      <td>fair</td>\n",
       "      <td>no</td>\n",
       "    </tr>\n",
       "    <tr>\n",
       "      <th>7</th>\n",
       "      <td>&lt;=30</td>\n",
       "      <td>low</td>\n",
       "      <td>yes</td>\n",
       "      <td>fair</td>\n",
       "      <td>yes</td>\n",
       "    </tr>\n",
       "    <tr>\n",
       "      <th>8</th>\n",
       "      <td>31..40</td>\n",
       "      <td>high</td>\n",
       "      <td>yes</td>\n",
       "      <td>fair</td>\n",
       "      <td>yes</td>\n",
       "    </tr>\n",
       "    <tr>\n",
       "      <th>9</th>\n",
       "      <td>&gt;40</td>\n",
       "      <td>medium</td>\n",
       "      <td>no</td>\n",
       "      <td>excellent</td>\n",
       "      <td>no</td>\n",
       "    </tr>\n",
       "    <tr>\n",
       "      <th>10</th>\n",
       "      <td>31..40</td>\n",
       "      <td>low</td>\n",
       "      <td>no</td>\n",
       "      <td>fair</td>\n",
       "      <td>no</td>\n",
       "    </tr>\n",
       "  </tbody>\n",
       "</table>\n",
       "</div>"
      ],
      "text/plain": [
       "       age  income student credit_rating buys_computer\n",
       "0     <=30    high      no          fair            no\n",
       "1     <=30    high      no     excellent            no\n",
       "2      >40  medium      no          fair           yes\n",
       "3      >40     low     yes          fair           yes\n",
       "4      >40     low     yes     excellent            no\n",
       "5   31..40     low     yes     excellent           yes\n",
       "6     <=30  medium      no          fair            no\n",
       "7     <=30     low     yes          fair           yes\n",
       "8   31..40    high     yes          fair           yes\n",
       "9      >40  medium      no     excellent            no\n",
       "10  31..40     low      no          fair            no"
      ]
     },
     "execution_count": 3,
     "metadata": {},
     "output_type": "execute_result"
    }
   ],
   "source": [
    "df = pd.read_table('../data/table7.txt', delim_whitespace=True)\n",
    "df"
   ]
  },
  {
   "cell_type": "code",
   "execution_count": 4,
   "metadata": {},
   "outputs": [],
   "source": [
    "def class_prior(class_list, class_value):\n",
    "    class_p = class_list.count(class_value)/len(class_list)\n",
    "    print(f\"P({class_value})={class_list.count(class_value)}/{len(class_list)}={class_p}\")\n",
    "    return class_p"
   ]
  },
  {
   "cell_type": "markdown",
   "metadata": {},
   "source": [
    "## Train and build distribution with labels"
   ]
  },
  {
   "cell_type": "code",
   "execution_count": 5,
   "metadata": {},
   "outputs": [
    {
     "name": "stdout",
     "output_type": "stream",
     "text": [
      "P(no)=6/11=0.5454545454545454\n",
      "P(yes)=5/11=0.45454545454545453\n"
     ]
    }
   ],
   "source": [
    "class_name = \"buys_computer\"\n",
    "class_values = df[class_name].unique()\n",
    "priors = {}\n",
    "for class_value in class_values:    \n",
    "    priors[class_value] = (class_prior(list(df[class_name]), class_value))"
   ]
  },
  {
   "cell_type": "code",
   "execution_count": 6,
   "metadata": {},
   "outputs": [
    {
     "name": "stdout",
     "output_type": "stream",
     "text": [
      "yes:  {'<=30': 0.2, '>40': 0.4, '31..40': 0.4, 'high': 0.2, 'medium': 0.2, 'low': 0.6, 'no': 0.2, 'yes': 0.8, 'fair': 0.8, 'excellent': 0.2}\n",
      "no:  {'<=30': 0.5, '>40': 0.3333333333333333, '31..40': 0.16666666666666666, 'high': 0.3333333333333333, 'medium': 0.3333333333333333, 'low': 0.3333333333333333, 'no': 0.8333333333333334, 'yes': 0.16666666666666666, 'fair': 0.5, 'excellent': 0.5}\n"
     ]
    }
   ],
   "source": [
    "p_yes_dic = {}\n",
    "p_no_dic = {}\n",
    "for class_value in class_values: \n",
    "    for column_name in df.drop(columns=[class_name]):\n",
    "        for value in df[column_name].unique():\n",
    "            value_count = len(df[(df[class_name] == class_value) & (df[column_name] == value)])\n",
    "            class_count = len(df[(df[class_name] == class_value)])\n",
    "            if class_value == \"yes\":\n",
    "                p_yes_dic[value] = value_count/class_count\n",
    "            if class_value == \"no\":\n",
    "                p_no_dic[value] = value_count/class_count\n",
    "print(f\"yes: \", p_yes_dic)\n",
    "print(\"no: \", p_no_dic)\n",
    "            "
   ]
  },
  {
   "cell_type": "markdown",
   "metadata": {},
   "source": [
    "## Classify new instances without label"
   ]
  },
  {
   "cell_type": "code",
   "execution_count": 7,
   "metadata": {},
   "outputs": [
    {
     "data": {
      "text/html": [
       "<div>\n",
       "<style scoped>\n",
       "    .dataframe tbody tr th:only-of-type {\n",
       "        vertical-align: middle;\n",
       "    }\n",
       "\n",
       "    .dataframe tbody tr th {\n",
       "        vertical-align: top;\n",
       "    }\n",
       "\n",
       "    .dataframe thead th {\n",
       "        text-align: right;\n",
       "    }\n",
       "</style>\n",
       "<table border=\"1\" class=\"dataframe\">\n",
       "  <thead>\n",
       "    <tr style=\"text-align: right;\">\n",
       "      <th></th>\n",
       "      <th>age</th>\n",
       "      <th>income</th>\n",
       "      <th>student</th>\n",
       "      <th>creditrating</th>\n",
       "    </tr>\n",
       "    <tr>\n",
       "      <th>ID</th>\n",
       "      <th></th>\n",
       "      <th></th>\n",
       "      <th></th>\n",
       "      <th></th>\n",
       "    </tr>\n",
       "  </thead>\n",
       "  <tbody>\n",
       "    <tr>\n",
       "      <th>CustomerA</th>\n",
       "      <td>31..40</td>\n",
       "      <td>high</td>\n",
       "      <td>no</td>\n",
       "      <td>fair</td>\n",
       "    </tr>\n",
       "    <tr>\n",
       "      <th>CustomerB</th>\n",
       "      <td>&lt;=30</td>\n",
       "      <td>medium</td>\n",
       "      <td>yes</td>\n",
       "      <td>excellent</td>\n",
       "    </tr>\n",
       "    <tr>\n",
       "      <th>CustomerC</th>\n",
       "      <td>&gt;40</td>\n",
       "      <td>medium</td>\n",
       "      <td>yes</td>\n",
       "      <td>fair</td>\n",
       "    </tr>\n",
       "    <tr>\n",
       "      <th>CustomerD</th>\n",
       "      <td>31..40</td>\n",
       "      <td>high</td>\n",
       "      <td>yes</td>\n",
       "      <td>excellent</td>\n",
       "    </tr>\n",
       "  </tbody>\n",
       "</table>\n",
       "</div>"
      ],
      "text/plain": [
       "              age  income student creditrating\n",
       "ID                                            \n",
       "CustomerA  31..40    high      no         fair\n",
       "CustomerB    <=30  medium     yes    excellent\n",
       "CustomerC     >40  medium     yes         fair\n",
       "CustomerD  31..40    high     yes    excellent"
      ]
     },
     "execution_count": 7,
     "metadata": {},
     "output_type": "execute_result"
    }
   ],
   "source": [
    "df = pd.read_table('../data/table8.txt', delim_whitespace=True, index_col=0)\n",
    "df"
   ]
  },
  {
   "cell_type": "code",
   "execution_count": 8,
   "metadata": {},
   "outputs": [
    {
     "name": "stdout",
     "output_type": "stream",
     "text": [
      "P(no|CustomerA) = Product([0.17, 0.33, 0.83, 0.5])*0.5454545454545454 = 0.012698999999999998\n",
      "P(no|CustomerB) = Product([0.5, 0.33, 0.17, 0.5])*0.5454545454545454 = 0.00765\n",
      "P(no|CustomerC) = Product([0.33, 0.33, 0.17, 0.5])*0.5454545454545454 = 0.005049\n",
      "P(no|CustomerD) = Product([0.17, 0.33, 0.17, 0.5])*0.5454545454545454 = 0.0026010000000000004\n",
      "P(yes|CustomerA) = Product([0.4, 0.2, 0.2, 0.8])*0.45454545454545453 = 0.0058181818181818196\n",
      "P(yes|CustomerB) = Product([0.2, 0.2, 0.8, 0.2])*0.45454545454545453 = 0.0029090909090909098\n",
      "P(yes|CustomerC) = Product([0.4, 0.2, 0.8, 0.8])*0.45454545454545453 = 0.023272727272727278\n",
      "P(yes|CustomerD) = Product([0.4, 0.2, 0.8, 0.2])*0.45454545454545453 = 0.0058181818181818196\n"
     ]
    }
   ],
   "source": [
    "for class_value in class_values:  \n",
    "    for index, row in df.iterrows():\n",
    "        p_new = []\n",
    "        if class_value==\"yes\":\n",
    "            p_dic = p_yes_dic\n",
    "        else: \n",
    "            p_dic = p_no_dic\n",
    "        for value in row: \n",
    "            p_new.append(p_dic[value])\n",
    "        p_new = [round(num, 2) for num in p_new]\n",
    "        print(f\"P({class_value}|{index}) = Product({p_new})*{priors[class_value]} = {np.product(p_new)*priors[class_value]}\")"
   ]
  }
 ],
 "metadata": {
  "interpreter": {
   "hash": "7eeab5e244e6d2bb29126e5c2117da8f926f0a00ff0a13f94b66cc877e30ded6"
  },
  "kernelspec": {
   "display_name": "Python 3.9.5 ('base')",
   "language": "python",
   "name": "python3"
  },
  "language_info": {
   "codemirror_mode": {
    "name": "ipython",
    "version": 3
   },
   "file_extension": ".py",
   "mimetype": "text/x-python",
   "name": "python",
   "nbconvert_exporter": "python",
   "pygments_lexer": "ipython3",
   "version": "3.9.5"
  },
  "orig_nbformat": 4
 },
 "nbformat": 4,
 "nbformat_minor": 2
}
