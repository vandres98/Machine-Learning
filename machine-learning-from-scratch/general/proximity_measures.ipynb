{
 "cells": [
  {
   "cell_type": "markdown",
   "metadata": {},
   "source": [
    "# Proximity measures"
   ]
  },
  {
   "cell_type": "code",
   "execution_count": 3,
   "metadata": {},
   "outputs": [],
   "source": [
    "import seaborn as sns\n",
    "import matplotlib.pyplot as plt\n",
    "import pandas as pd\n",
    "import io\n",
    "import requests\n",
    "import numpy as np"
   ]
  },
  {
   "cell_type": "markdown",
   "metadata": {},
   "source": [
    "## Distance Matrix"
   ]
  },
  {
   "cell_type": "code",
   "execution_count": null,
   "metadata": {},
   "outputs": [],
   "source": [
    "from scipy.spatial.distance import cdist\n",
    "def get_distance_matrix(X):\n",
    "    dist_mat = cdist(X, X, metric=\"minkowski\", p=1)\n",
    "    return pd.DataFrame(dist_mat)"
   ]
  },
  {
   "cell_type": "markdown",
   "metadata": {},
   "source": [
    "## L Norms"
   ]
  },
  {
   "cell_type": "code",
   "execution_count": 4,
   "metadata": {},
   "outputs": [],
   "source": [
    "def l1(a,b):\n",
    "    res = 0\n",
    "    for x,y in zip(a,b):\n",
    "        res += abs(x-y)\n",
    "    return res\n",
    "\n",
    "def l2(a,b):\n",
    "    res = 0\n",
    "    for x,y in zip(a,b):\n",
    "        res += (x-y)**2\n",
    "    return np.sqrt(res)\n",
    "\n",
    "def lmax(a,b):\n",
    "    res = []\n",
    "    for x,y in zip(a,b):\n",
    "        res.append(abs(x-y))\n",
    "    return max(res)"
   ]
  },
  {
   "cell_type": "code",
   "execution_count": 22,
   "metadata": {},
   "outputs": [
    {
     "name": "stdout",
     "output_type": "stream",
     "text": [
      "3.0\n",
      "3.0\n"
     ]
    }
   ],
   "source": [
    "a = np.array([4,5,9])\n",
    "b = np.array([3,3,7])\n",
    "print(l2(a,b))\n",
    "print(np.linalg.norm(a-b,ord=2))"
   ]
  },
  {
   "cell_type": "code",
   "execution_count": 24,
   "metadata": {},
   "outputs": [
    {
     "data": {
      "text/html": [
       "<div>\n",
       "<style scoped>\n",
       "    .dataframe tbody tr th:only-of-type {\n",
       "        vertical-align: middle;\n",
       "    }\n",
       "\n",
       "    .dataframe tbody tr th {\n",
       "        vertical-align: top;\n",
       "    }\n",
       "\n",
       "    .dataframe thead th {\n",
       "        text-align: right;\n",
       "    }\n",
       "</style>\n",
       "<table border=\"1\" class=\"dataframe\">\n",
       "  <thead>\n",
       "    <tr style=\"text-align: right;\">\n",
       "      <th></th>\n",
       "      <th>x</th>\n",
       "      <th>y</th>\n",
       "    </tr>\n",
       "    <tr>\n",
       "      <th>dataset1</th>\n",
       "      <th></th>\n",
       "      <th></th>\n",
       "    </tr>\n",
       "  </thead>\n",
       "  <tbody>\n",
       "    <tr>\n",
       "      <th>a</th>\n",
       "      <td>10</td>\n",
       "      <td>4</td>\n",
       "    </tr>\n",
       "    <tr>\n",
       "      <th>CM</th>\n",
       "      <td>5</td>\n",
       "      <td>15</td>\n",
       "    </tr>\n",
       "    <tr>\n",
       "      <th>c</th>\n",
       "      <td>3</td>\n",
       "      <td>-6</td>\n",
       "    </tr>\n",
       "    <tr>\n",
       "      <th>d</th>\n",
       "      <td>1</td>\n",
       "      <td>11</td>\n",
       "    </tr>\n",
       "  </tbody>\n",
       "</table>\n",
       "</div>"
      ],
      "text/plain": [
       "           x   y\n",
       "dataset1        \n",
       "a         10   4\n",
       "CM         5  15\n",
       "c          3  -6\n",
       "d          1  11"
      ]
     },
     "execution_count": 24,
     "metadata": {},
     "output_type": "execute_result"
    }
   ],
   "source": [
    "df = pd.read_table('../data/table3.txt', delim_whitespace=True, index_col=0)\n",
    "# df = df.apply(np.linalg.norm, axis=1)\n",
    "df"
   ]
  },
  {
   "cell_type": "code",
   "execution_count": 26,
   "metadata": {},
   "outputs": [
    {
     "name": "stdout",
     "output_type": "stream",
     "text": [
      "l1(a,b) = |x_a - x_b| + |y_a - y_b|\n",
      "l1(a,a) = 0\n",
      "l1(a,CM) = 16\n",
      "l1(a,c) = 17\n",
      "l1(a,d) = 16\n",
      "l1(CM,CM) = 0\n",
      "l1(CM,c) = 23\n",
      "l1(CM,d) = 8\n",
      "l1(c,c) = 0\n",
      "l1(c,d) = 19\n",
      "l1(d,d) = 0\n",
      "\n",
      "l2(a,b) = sqrt((x_a - x_b)**2 + (y_a - y_b)**2)\n",
      "l2(a,a) = 0.0\n",
      "l2(a,CM) = 12.083045973594572\n",
      "l2(a,c) = 12.206555615733702\n",
      "l2(a,d) = 11.40175425099138\n",
      "l2(CM,CM) = 0.0\n",
      "l2(CM,c) = 21.095023109728988\n",
      "l2(CM,d) = 5.656854249492381\n",
      "l2(c,c) = 0.0\n",
      "l2(c,d) = 17.11724276862369\n",
      "l2(d,d) = 0.0\n"
     ]
    }
   ],
   "source": [
    "print(\"l1(a,b) = |x_a - x_b| + |y_a - y_b|\")\n",
    "for i in range(len(df)):\n",
    "    for rest in range(len(df)-i):\n",
    "        a = df.iloc[i,:]\n",
    "        b = df.iloc[rest+i,:]\n",
    "        print(f\"l1({df.index[i]},{df.index[rest+i]}) = {l1(a,b)}\")\n",
    "\n",
    "print(\"\\nl2(a,b) = sqrt((x_a - x_b)**2 + (y_a - y_b)**2)\")\n",
    "for i in range(len(df)):\n",
    "    for rest in range(len(df)-i):\n",
    "        a = df.iloc[i,:]\n",
    "        b = df.iloc[rest+i,:]\n",
    "        print(f\"l2({df.index[i]},{df.index[rest+i]}) = {l2(a,b)}\")"
   ]
  },
  {
   "cell_type": "markdown",
   "metadata": {},
   "source": [
    "## jaccard, simple match"
   ]
  },
  {
   "cell_type": "code",
   "execution_count": 27,
   "metadata": {},
   "outputs": [
    {
     "data": {
      "text/html": [
       "<div>\n",
       "<style scoped>\n",
       "    .dataframe tbody tr th:only-of-type {\n",
       "        vertical-align: middle;\n",
       "    }\n",
       "\n",
       "    .dataframe tbody tr th {\n",
       "        vertical-align: top;\n",
       "    }\n",
       "\n",
       "    .dataframe thead th {\n",
       "        text-align: right;\n",
       "    }\n",
       "</style>\n",
       "<table border=\"1\" class=\"dataframe\">\n",
       "  <thead>\n",
       "    <tr style=\"text-align: right;\">\n",
       "      <th></th>\n",
       "      <th>test1</th>\n",
       "      <th>test2</th>\n",
       "      <th>test3</th>\n",
       "      <th>test4</th>\n",
       "      <th>test5</th>\n",
       "    </tr>\n",
       "    <tr>\n",
       "      <th>Name</th>\n",
       "      <th></th>\n",
       "      <th></th>\n",
       "      <th></th>\n",
       "      <th></th>\n",
       "      <th></th>\n",
       "    </tr>\n",
       "  </thead>\n",
       "  <tbody>\n",
       "    <tr>\n",
       "      <th>Alice</th>\n",
       "      <td>1</td>\n",
       "      <td>0</td>\n",
       "      <td>1</td>\n",
       "      <td>0</td>\n",
       "      <td>0</td>\n",
       "    </tr>\n",
       "    <tr>\n",
       "      <th>Bob</th>\n",
       "      <td>0</td>\n",
       "      <td>0</td>\n",
       "      <td>1</td>\n",
       "      <td>0</td>\n",
       "      <td>0</td>\n",
       "    </tr>\n",
       "    <tr>\n",
       "      <th>Charlie</th>\n",
       "      <td>1</td>\n",
       "      <td>1</td>\n",
       "      <td>0</td>\n",
       "      <td>1</td>\n",
       "      <td>1</td>\n",
       "    </tr>\n",
       "  </tbody>\n",
       "</table>\n",
       "</div>"
      ],
      "text/plain": [
       "         test1  test2  test3  test4  test5\n",
       "Name                                      \n",
       "Alice        1      0      1      0      0\n",
       "Bob          0      0      1      0      0\n",
       "Charlie      1      1      0      1      1"
      ]
     },
     "execution_count": 27,
     "metadata": {},
     "output_type": "execute_result"
    }
   ],
   "source": [
    "df = pd.read_table('../data/table4.txt', delim_whitespace=True, index_col=0)\n",
    "df"
   ]
  },
  {
   "cell_type": "code",
   "execution_count": 28,
   "metadata": {},
   "outputs": [],
   "source": [
    "def simple_match(a,b):\n",
    "    q,t,s,r = 0,0,0,0\n",
    "    for x,y in zip(a,b):\n",
    "        if x==1 and y==1: q+=1\n",
    "        if x==0 and y==0: t+=1\n",
    "        if x==1 and y==0: r+=1\n",
    "        if x==0 and y==1: s+=1\n",
    "    print(f\"q={q},t={t},r={r},s={s}\")\n",
    "    return (r+s)/(q+r+s)\n",
    "\n",
    "def jaccard(a,b):\n",
    "    q,t,s,r = 0,0,0,0\n",
    "    for x,y in zip(a,b):\n",
    "        if x==1 and y==1: q+=1\n",
    "        if x==0 and y==0: t+=1\n",
    "        if x==1 and y==0: r+=1\n",
    "        if x==0 and y==1: s+=1\n",
    "    print(f\"q={q},t={t},r={r},s={s}\")\n",
    "    return (q)/(q+r+s)"
   ]
  },
  {
   "cell_type": "code",
   "execution_count": 29,
   "metadata": {},
   "outputs": [
    {
     "name": "stdout",
     "output_type": "stream",
     "text": [
      "simple_match = (r+s)/(q+r+s)\n",
      "q=2,t=3,r=0,s=0\n",
      "simple_match(Alice,Alice) = 0.0\n",
      "q=1,t=3,r=1,s=0\n",
      "simple_match(Alice,Bob) = 0.5\n",
      "q=1,t=0,r=1,s=3\n",
      "simple_match(Alice,Charlie) = 0.8\n",
      "q=1,t=3,r=0,s=1\n",
      "simple_match(Bob,Alice) = 0.5\n",
      "q=1,t=4,r=0,s=0\n",
      "simple_match(Bob,Bob) = 0.0\n",
      "q=0,t=0,r=1,s=4\n",
      "simple_match(Bob,Charlie) = 1.0\n",
      "q=1,t=0,r=3,s=1\n",
      "simple_match(Charlie,Alice) = 0.8\n",
      "q=0,t=0,r=4,s=1\n",
      "simple_match(Charlie,Bob) = 1.0\n",
      "q=4,t=1,r=0,s=0\n",
      "simple_match(Charlie,Charlie) = 0.0\n"
     ]
    }
   ],
   "source": [
    "print(\"simple_match = (r+s)/(q+r+s)\")\n",
    "for i in range(len(df)):\n",
    "    for rest in range(len(df)):\n",
    "            a = df.iloc[i,:]\n",
    "            b = df.iloc[rest,:]\n",
    "            print(f\"simple_match({df.index[i]},{df.index[rest]}) = {simple_match(a,b)}\")"
   ]
  },
  {
   "cell_type": "code",
   "execution_count": 30,
   "metadata": {},
   "outputs": [
    {
     "name": "stdout",
     "output_type": "stream",
     "text": [
      "jaccard = (q)/(q+r+s)\n",
      "q=2,t=3,r=0,s=0\n",
      "jaccard(Alice,Alice) = 1.0\n",
      "q=1,t=3,r=1,s=0\n",
      "jaccard(Alice,Bob) = 0.5\n",
      "q=1,t=0,r=1,s=3\n",
      "jaccard(Alice,Charlie) = 0.2\n",
      "q=1,t=3,r=0,s=1\n",
      "jaccard(Bob,Alice) = 0.5\n",
      "q=1,t=4,r=0,s=0\n",
      "jaccard(Bob,Bob) = 1.0\n",
      "q=0,t=0,r=1,s=4\n",
      "jaccard(Bob,Charlie) = 0.0\n",
      "q=1,t=0,r=3,s=1\n",
      "jaccard(Charlie,Alice) = 0.2\n",
      "q=0,t=0,r=4,s=1\n",
      "jaccard(Charlie,Bob) = 0.0\n",
      "q=4,t=1,r=0,s=0\n",
      "jaccard(Charlie,Charlie) = 1.0\n"
     ]
    }
   ],
   "source": [
    "print(\"jaccard = (q)/(q+r+s)\")\n",
    "for i in range(len(df)):\n",
    "    for rest in range(len(df)):\n",
    "            a = df.iloc[i,:]\n",
    "            b = df.iloc[rest,:]\n",
    "            print(f\"jaccard({df.index[i]},{df.index[rest]}) = {jaccard(a,b)}\")"
   ]
  },
  {
   "cell_type": "markdown",
   "metadata": {},
   "source": [
    "## simple match categorical"
   ]
  },
  {
   "cell_type": "code",
   "execution_count": 31,
   "metadata": {},
   "outputs": [
    {
     "data": {
      "text/html": [
       "<div>\n",
       "<style scoped>\n",
       "    .dataframe tbody tr th:only-of-type {\n",
       "        vertical-align: middle;\n",
       "    }\n",
       "\n",
       "    .dataframe tbody tr th {\n",
       "        vertical-align: top;\n",
       "    }\n",
       "\n",
       "    .dataframe thead th {\n",
       "        text-align: right;\n",
       "    }\n",
       "</style>\n",
       "<table border=\"1\" class=\"dataframe\">\n",
       "  <thead>\n",
       "    <tr style=\"text-align: right;\">\n",
       "      <th></th>\n",
       "      <th>EyeColor</th>\n",
       "      <th>Gender</th>\n",
       "      <th>Age</th>\n",
       "      <th>Department</th>\n",
       "    </tr>\n",
       "    <tr>\n",
       "      <th>Name</th>\n",
       "      <th></th>\n",
       "      <th></th>\n",
       "      <th></th>\n",
       "      <th></th>\n",
       "    </tr>\n",
       "  </thead>\n",
       "  <tbody>\n",
       "    <tr>\n",
       "      <th>Alice</th>\n",
       "      <td>green</td>\n",
       "      <td>male</td>\n",
       "      <td>21</td>\n",
       "      <td>Maths</td>\n",
       "    </tr>\n",
       "    <tr>\n",
       "      <th>Bob</th>\n",
       "      <td>blue</td>\n",
       "      <td>male</td>\n",
       "      <td>19</td>\n",
       "      <td>Maths</td>\n",
       "    </tr>\n",
       "    <tr>\n",
       "      <th>Charlie</th>\n",
       "      <td>brown</td>\n",
       "      <td>diverse</td>\n",
       "      <td>25</td>\n",
       "      <td>Maths</td>\n",
       "    </tr>\n",
       "  </tbody>\n",
       "</table>\n",
       "</div>"
      ],
      "text/plain": [
       "        EyeColor   Gender  Age Department\n",
       "Name                                     \n",
       "Alice      green     male   21      Maths\n",
       "Bob         blue     male   19      Maths\n",
       "Charlie    brown  diverse   25      Maths"
      ]
     },
     "execution_count": 31,
     "metadata": {},
     "output_type": "execute_result"
    }
   ],
   "source": [
    "df = pd.read_table('../data/table5.txt', delim_whitespace=True, index_col=0)\n",
    "df"
   ]
  },
  {
   "cell_type": "code",
   "execution_count": 32,
   "metadata": {},
   "outputs": [],
   "source": [
    "def simple_match_categorical(a,b):\n",
    "    m,p = 0,0\n",
    "    for x,y in zip(a,b):\n",
    "        if x==y: \n",
    "            m +=1\n",
    "    p = len(a)\n",
    "    print(f\"p={p},m={m}\")\n",
    "    return (p-m)/p"
   ]
  },
  {
   "cell_type": "code",
   "execution_count": 33,
   "metadata": {},
   "outputs": [
    {
     "name": "stdout",
     "output_type": "stream",
     "text": [
      "simple_match_categorical = (p-m)/p\n",
      "p=4,m=4\n",
      "simple_match_categorical(Alice,Alice) = 0.0\n",
      "p=4,m=2\n",
      "simple_match_categorical(Alice,Bob) = 0.5\n",
      "p=4,m=1\n",
      "simple_match_categorical(Alice,Charlie) = 0.75\n",
      "p=4,m=2\n",
      "simple_match_categorical(Bob,Alice) = 0.5\n",
      "p=4,m=4\n",
      "simple_match_categorical(Bob,Bob) = 0.0\n",
      "p=4,m=1\n",
      "simple_match_categorical(Bob,Charlie) = 0.75\n",
      "p=4,m=1\n",
      "simple_match_categorical(Charlie,Alice) = 0.75\n",
      "p=4,m=1\n",
      "simple_match_categorical(Charlie,Bob) = 0.75\n",
      "p=4,m=4\n",
      "simple_match_categorical(Charlie,Charlie) = 0.0\n"
     ]
    }
   ],
   "source": [
    "print(\"simple_match_categorical = (p-m)/p\")\n",
    "for i in range(len(df)):\n",
    "    for rest in range(len(df)):\n",
    "            a = df.iloc[i,:]\n",
    "            b = df.iloc[rest,:]\n",
    "            print(f\"simple_match_categorical({df.index[i]},{df.index[rest]}) = {simple_match_categorical(a,b)}\")"
   ]
  }
 ],
 "metadata": {
  "interpreter": {
   "hash": "7eeab5e244e6d2bb29126e5c2117da8f926f0a00ff0a13f94b66cc877e30ded6"
  },
  "kernelspec": {
   "display_name": "Python 3.9.5 ('base')",
   "language": "python",
   "name": "python3"
  },
  "language_info": {
   "codemirror_mode": {
    "name": "ipython",
    "version": 3
   },
   "file_extension": ".py",
   "mimetype": "text/x-python",
   "name": "python",
   "nbconvert_exporter": "python",
   "pygments_lexer": "ipython3",
   "version": "3.9.5"
  },
  "orig_nbformat": 4
 },
 "nbformat": 4,
 "nbformat_minor": 2
}
